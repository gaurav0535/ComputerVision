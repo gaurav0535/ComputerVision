{
 "cells": [
  {
   "cell_type": "code",
   "execution_count": 1,
   "metadata": {},
   "outputs": [],
   "source": [
    "import cv2\n",
    "import numpy as np\n",
    "import time"
   ]
  },
  {
   "cell_type": "code",
   "execution_count": 2,
   "metadata": {},
   "outputs": [
    {
     "name": "stdout",
     "output_type": "stream",
     "text": [
      "4.1.2\n"
     ]
    }
   ],
   "source": [
    "print(cv2.__version__) "
   ]
  },
  {
   "cell_type": "code",
   "execution_count": 3,
   "metadata": {},
   "outputs": [],
   "source": [
    "capture_video = cv2.VideoCapture(\"video.mp4\") "
   ]
  },
  {
   "cell_type": "code",
   "execution_count": 4,
   "metadata": {},
   "outputs": [],
   "source": [
    "time.sleep(1)\n",
    "count = 0\n",
    "background = 0\n",
    "\n",
    "for i in range(60):\n",
    "    return_val , background = capture_video.read()\n",
    "    if return_val == False:\n",
    "        continue\n",
    "        \n",
    "        \n",
    "background = np.flip(background,axis=1)\n",
    "\n",
    "while(capture_video.isOpened()):\n",
    "    return_val , img = capture_video.read()\n",
    "    if not return_val:\n",
    "        break\n",
    "        \n",
    "    count = count +1\n",
    "    img = np.flip(img,axis=1)\n",
    "    \n",
    "    hsv = cv2.cvtColor(img, cv2.COLOR_BGR2HSV) \n",
    "    \n",
    "    lower_red = np.array([100,40,40])\n",
    "    upper_red = np.array([100,255,255])\n",
    "    \n",
    "    mask1 = cv2.inRange(hsv,lower_red,upper_red)\n",
    "    \n",
    "    lower_red = np.array([155,40,40])\n",
    "    upper_red = np.array([180,255,255])\n",
    "    \n",
    "    mask2 = cv2.inRange(hsv,lower_red,upper_red)\n",
    "    \n",
    "    mask1 = mask1 + mask2\n",
    "    \n",
    "    mask1 = cv2.morphologyEx(mask1, cv2.MORPH_OPEN, np.ones((3, 3), \n",
    "                                         np.uint8), iterations = 2) \n",
    "    mask1 = cv2.dilate(mask1, np.ones((3, 3), np.uint8), iterations = 1) \n",
    "    mask2 = cv2.bitwise_not(mask1) \n",
    "  \n",
    "    res1 = cv2.bitwise_and(background, background, mask = mask1) \n",
    "    res2 = cv2.bitwise_and(img, img, mask = mask2) \n",
    "    final_output = cv2.addWeighted(res1, 1, res2, 1, 0) \n",
    "  \n",
    "    cv2.imshow(\"INVISIBLE MAN\", final_output) \n",
    "    k = cv2.waitKey(10) \n",
    "    if k == 27: \n",
    "        break"
   ]
  },
  {
   "cell_type": "code",
   "execution_count": null,
   "metadata": {},
   "outputs": [],
   "source": []
  }
 ],
 "metadata": {
  "kernelspec": {
   "display_name": "Python 3",
   "language": "python",
   "name": "python3"
  },
  "language_info": {
   "codemirror_mode": {
    "name": "ipython",
    "version": 3
   },
   "file_extension": ".py",
   "mimetype": "text/x-python",
   "name": "python",
   "nbconvert_exporter": "python",
   "pygments_lexer": "ipython3",
   "version": "3.7.4"
  }
 },
 "nbformat": 4,
 "nbformat_minor": 2
}
